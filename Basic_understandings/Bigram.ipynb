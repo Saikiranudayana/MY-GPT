{
 "cells": [
  {
   "cell_type": "code",
   "execution_count": 15,
   "id": "349ae217",
   "metadata": {},
   "outputs": [
    {
     "name": "stdout",
     "output_type": "stream",
     "text": [
      "cuda\n"
     ]
    }
   ],
   "source": [
    "import torch\n",
    "device = 'cuda' if torch.cuda.is_available() else 'cpu'\n",
    "print(device)\n",
    "block_size = 8\n",
    "batch_size = 4\n"
   ]
  },
  {
   "cell_type": "code",
   "execution_count": 16,
   "id": "a1bb88c7",
   "metadata": {},
   "outputs": [
    {
     "name": "stdout",
     "output_type": "stream",
     "text": [
      "['\\n', ' ', '!', '\"', '#', '&', \"'\", '(', ')', '*', ',', '-', '.', '/', '0', '1', '2', '3', '4', '5', '6', '7', '8', '9', ':', ';', '?', 'A', 'B', 'C', 'D', 'E', 'F', 'G', 'H', 'I', 'J', 'K', 'L', 'M', 'N', 'O', 'P', 'Q', 'R', 'S', 'T', 'U', 'V', 'W', 'X', 'Y', 'Z', '[', ']', '_', 'a', 'b', 'c', 'd', 'e', 'f', 'g', 'h', 'i', 'j', 'k', 'l', 'm', 'n', 'o', 'p', 'q', 'r', 's', 't', 'u', 'v', 'w', 'x', 'y', 'z', '\\ufeff']\n"
     ]
    }
   ],
   "source": [
    "with open(\"Wizard_of_oz.txt\",'r',encoding='utf-8') as file:\n",
    "    text = file.read()\n",
    "chars = sorted(set(text))\n",
    "print(chars)\n",
    "vocabulary_len = len(chars)\n"
   ]
  },
  {
   "cell_type": "code",
   "execution_count": 17,
   "id": "98bfe889",
   "metadata": {},
   "outputs": [],
   "source": [
    "string_ito_int = {ch: i for i, ch in enumerate(chars)}\n",
    "int_to_string = {i: ch for i, ch in enumerate(chars)}\n",
    "\n",
    "encode = lambda s:[string_ito_int[ch] for ch in s]\n",
    "decode = lambda l: ''.join([int_to_string[i] for i in l])"
   ]
  },
  {
   "cell_type": "code",
   "execution_count": 18,
   "id": "b7345d33",
   "metadata": {},
   "outputs": [
    {
     "name": "stdout",
     "output_type": "stream",
     "text": [
      "This is encoded: [63, 60, 67, 67, 70]\n",
      "This is decoded: hello\n"
     ]
    }
   ],
   "source": [
    "encoded_text= encode(\"hello\")\n",
    "decode_text = decode(encoded_text)\n",
    "\n",
    "print(\"This is encoded:\", encoded_text) ## testing\n",
    "print(\"This is decoded:\", decode_text) ## testing"
   ]
  },
  {
   "cell_type": "code",
   "execution_count": 19,
   "id": "b1faf212",
   "metadata": {},
   "outputs": [
    {
     "name": "stdout",
     "output_type": "stream",
     "text": [
      "tensor([82, 46, 63, 60,  1, 42, 73, 70, 65, 60, 58, 75,  1, 33, 76, 75, 60, 69,\n",
      "        57, 60, 73, 62,  1, 60, 28, 70, 70, 66,  1, 70, 61,  1, 30, 70, 73, 70,\n",
      "        75, 63, 80,  1, 56, 69, 59,  1, 75, 63, 60,  1, 49, 64, 81, 56, 73, 59,\n",
      "         1, 64, 69,  1, 41, 81,  0,  1,  1,  1,  1,  0, 46, 63, 64, 74,  1, 60,\n",
      "        57, 70, 70, 66,  1, 64, 74,  1, 61, 70, 73,  1, 75, 63, 60,  1, 76, 74,\n",
      "        60,  1, 70, 61,  1, 56, 69, 80, 70, 69])\n"
     ]
    }
   ],
   "source": [
    "\n",
    "data = torch.tensor(encode(text), dtype=torch.long)\n",
    "print(data[:100])"
   ]
  },
  {
   "cell_type": "code",
   "execution_count": 20,
   "id": "76c0cf69",
   "metadata": {},
   "outputs": [],
   "source": [
    "new_n = int(0.8*len(data))\n",
    "train_split = data[:new_n]\n",
    "val_split = data[new_n:]"
   ]
  },
  {
   "cell_type": "code",
   "execution_count": 21,
   "id": "01ee3145",
   "metadata": {},
   "outputs": [
    {
     "name": "stdout",
     "output_type": "stream",
     "text": [
      "When th input istensor([82]) the target is 46\n",
      "When th input istensor([82, 46]) the target is 63\n",
      "When th input istensor([82, 46, 63]) the target is 60\n",
      "When th input istensor([82, 46, 63, 60]) the target is 1\n",
      "When th input istensor([82, 46, 63, 60,  1]) the target is 42\n",
      "When th input istensor([82, 46, 63, 60,  1, 42]) the target is 73\n",
      "When th input istensor([82, 46, 63, 60,  1, 42, 73]) the target is 70\n",
      "When th input istensor([82, 46, 63, 60,  1, 42, 73, 70]) the target is 65\n"
     ]
    }
   ],
   "source": [
    "## input and output mapping\n",
    "\n",
    "\n",
    "x= train_split[:block_size]\n",
    "y= train_split[1:block_size+1]\n",
    "\n",
    "for i in range(block_size):\n",
    "    content = x[:i+1]\n",
    "    target = y[i]\n",
    "    \n",
    "    print(f\"When th input is{content} the target is {target}\")"
   ]
  },
  {
   "cell_type": "code",
   "execution_count": null,
   "id": "e0532abc",
   "metadata": {},
   "outputs": [],
   "source": []
  }
 ],
 "metadata": {
  "kernelspec": {
   "display_name": "cuda",
   "language": "python",
   "name": "python3"
  },
  "language_info": {
   "codemirror_mode": {
    "name": "ipython",
    "version": 3
   },
   "file_extension": ".py",
   "mimetype": "text/x-python",
   "name": "python",
   "nbconvert_exporter": "python",
   "pygments_lexer": "ipython3",
   "version": "3.8.20"
  }
 },
 "nbformat": 4,
 "nbformat_minor": 5
}
